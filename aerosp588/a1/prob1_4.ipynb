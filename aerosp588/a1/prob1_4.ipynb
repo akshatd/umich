{
 "cells": [
  {
   "cell_type": "markdown",
   "id": "3f04123c",
   "metadata": {},
   "source": [
    "### 1.4"
   ]
  },
  {
   "cell_type": "markdown",
   "id": "1d04169a",
   "metadata": {},
   "source": [
    "### Journal Article: Aerodynamic Optimization Design of Supersonic Wing Based on Discrete Adjoint\n",
    "[Link to paper](https://www.mdpi.com/2226-4310/10/5/420)\n",
    "\n",
    "##### Problem formulation (Is it well posed? Classify the problem(s) according to Chapter 1 of the textbook)\n",
    "- The problem is well formulated, it is specifically about minimizing the fuel consumption in supersonic aircrafts by optimizing the aerodynamic shape to reduce drag.\n",
    "- Design Variables\n",
    "\t- The paper focuses on both subsonic and supersonic configurations, and the constriants are different for each\n",
    "\t- Subsonic\n",
    "\t\t- There are >200 design variables, that include:\n",
    "\t\t\t- Shape: the displacement of Free Form Deform (FFD) control points (240 in total) on the wing\n",
    "\t\t\t- Twist: 5 deflection angles of FFD control profile\n",
    "\t\t\t- Angle of attack\n",
    "\t- Supersonic\n",
    "\t\t- There are >100 design variables, that include:\n",
    "\t\t\t- Shape: the displacement of Free Form Deform (FFD) control points (120 in total) on the wing\n",
    "\t\t\t- Twist: 3 deflection angles of FFD control profile\n",
    "\t\t\t- Angle of attack\n",
    "\t- Classification: Continous\n",
    "- Objective Function\n",
    "\t- The initial design is a Lockheed Martin (LM) 1021 developed by NASA N + 2 supersonic verification program\n",
    "\t- The objective is to minimize the total drag coefficient\n",
    "\t- Classification: Single\n",
    "- Constriants\n",
    "\t- The paper focuses on both subsonic and supersonic configurations, and the constriants are different for each\n",
    "\t- Subsonic\n",
    "\t\t- Thickness of wing (distributed over 7 spanwise sections): >= 97% of the original thickness \n",
    "\t\t- Volume of wing(defined between 50 cross-sections, 25 parts in each cross-section): >= initial volume\n",
    "\t\t- Pitching moment coefficient: >= 0\n",
    "\t\t- Lift coefficient: = 0.142\n",
    "\t- Supersonic\n",
    "\t\t- Thickness of wing (distributed over 4 spanwise sections): 2 separate (>=70% and >=90%) of the original thickness\n",
    "\t\t- Volume of wing(defined between 50 cross-sections, 25 parts in each cross-section): 20–70% of the chord length and >= initial volume\n",
    "\t\t- Pitching moment coefficient: >= 0\n",
    "\t\t- Lift coefficient: = 0.195\n",
    "\t- Classification: Constrained\n",
    "\n",
    "##### Optimization method used (classify the method(s) according to Chapter 1 of the textbook)\n",
    "- Optimization method is the SNOPT with the Sequential Quadratic Programming (SQP) algorithm\n",
    "- Gradient based\n",
    "- Classification\n",
    "\t- Smoothness: Continuous\n",
    "\t- Linearity: Nonlinear\n",
    "\t- Modality: Multimodal\n",
    "\t- Convexity: Nonconvex\n",
    "\t- Stochasticity: Deterministic\n",
    "\n",
    "##### Models, and solvers (see overview of solvers in Chapter 3)\n",
    "- uses RANS solver ADflow for structured mesh and overset mesh\n",
    "- uses a numerical simulation for aerodynamic optimization\n",
    "- uses the three-dimensional compressible RANS equation as the governing equation of the flow field\n",
    "- uses the discrete adjoint method to calculate the gradient for minimization\n",
    "\n",
    "##### Suitability of methods to solve the problem\n",
    "- The methods are suitable because they are able to achieve the results within the scope of the study\n",
    "- Even though the problem is well formulated, the issue in this study is mainly that they assumed that there would be a direct correlation between induced drag and fuel consumption, which turns out to be not true because there are other factors that affect it.\n",
    "\n",
    "##### Practicality of the results\n",
    "- The results are not very practical because this is only optimized for a single metric, which is the drag coeffient\n",
    "- There should be other objectives like weight reduction, which can significantly affect the fuel consumption of the flight, especially when fuel consumption was the primary objective of this study\n",
    "\n",
    "##### Conclusions (hint: draw your own conclusions before reading the conclusions in the paper and then compare)\n",
    "- The paper achieves an improvement of ~4.5% over the origial design, which would be significant fuel savings for long haul flights if multiplied for an entire fleet of aircraft\n",
    "- However, the additional shockwave drag makes this design not very optimal because that was never considered during the optimization\n",
    "- This seems like a great problem for a multidisciplinary design optimisation with multple objectives"
   ]
  }
 ],
 "metadata": {
  "kernelspec": {
   "display_name": "Python 3 (ipykernel)",
   "language": "python",
   "name": "python3"
  },
  "language_info": {
   "codemirror_mode": {
    "name": "ipython",
    "version": 3
   },
   "file_extension": ".py",
   "mimetype": "text/x-python",
   "name": "python",
   "nbconvert_exporter": "python",
   "pygments_lexer": "ipython3",
   "version": "3.11.3"
  }
 },
 "nbformat": 4,
 "nbformat_minor": 5
}
