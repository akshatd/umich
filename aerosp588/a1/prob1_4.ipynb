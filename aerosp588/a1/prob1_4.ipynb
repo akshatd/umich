{
 "cells": [
  {
   "cell_type": "markdown",
   "id": "3f04123c",
   "metadata": {},
   "source": [
    "### 1.4"
   ]
  },
  {
   "cell_type": "markdown",
   "id": "1d04169a",
   "metadata": {},
   "source": [
    "### Journal Article: Aerodynamic Optimization Design of Supersonic Wing Based on Discrete Adjoint\n",
    "[Link to paper](https://www.mdpi.com/2226-4310/10/5/420)\n",
    "\n",
    "##### Problem formulation (Is it well posed? Classify the problem(s) according to Chapter 1 of the textbook)\n",
    "asdasd\n",
    "\n",
    "##### Optimization method used (classify the method(s) according to Chapter 1 of the textbook)\n",
    "asd\n",
    "\n",
    "##### Models, and solvers (see overview of solvers in Chapter 3)\n",
    "asasd\n",
    "\n",
    "##### Suitability of methods to solve the problem\n",
    "asdasd\n",
    "\n",
    "##### Practicality of the results\n",
    "asdsad\n",
    "\n",
    "##### Conclusions (hint: draw your own conclusions before reading the conclusions in the paper and then compare)\n",
    "asd"
   ]
  }
 ],
 "metadata": {
  "kernelspec": {
   "display_name": "Python 3 (ipykernel)",
   "language": "python",
   "name": "python3"
  },
  "language_info": {
   "codemirror_mode": {
    "name": "ipython",
    "version": 3
   },
   "file_extension": ".py",
   "mimetype": "text/x-python",
   "name": "python",
   "nbconvert_exporter": "python",
   "pygments_lexer": "ipython3",
   "version": "3.11.3"
  }
 },
 "nbformat": 4,
 "nbformat_minor": 5
}
